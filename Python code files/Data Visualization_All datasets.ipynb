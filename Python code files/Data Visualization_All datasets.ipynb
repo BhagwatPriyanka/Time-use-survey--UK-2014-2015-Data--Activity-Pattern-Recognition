{
 "cells": [
  {
   "cell_type": "code",
   "execution_count": 3,
   "metadata": {
    "id": "jvfO7fUxfc6e"
   },
   "outputs": [],
   "source": [
    "#loading all required libraries\n",
    "import pandas as pd\n",
    "from pandas import DataFrame\n",
    "import numpy as np\n",
    "import matplotlib.pyplot as plt\n",
    "from sklearn.preprocessing import MinMaxScaler, RobustScaler\n",
    "from sklearn.decomposition import PCA\n",
    "from sklearn import decomposition, datasets\n",
    "from sklearn import cluster, datasets, metrics\n",
    "import warnings\n",
    "warnings.simplefilter('ignore')\n",
    "pd.set_option('display.max_columns', None)\n",
    "pd.set_option('display.max_rows',None)\n",
    "from sklearn.preprocessing import LabelEncoder,StandardScaler\n",
    "from sklearn.cluster import KMeans\n",
    "from sklearn.metrics import silhouette_score,silhouette_samples\n",
    "pd.set_option('float_format', '{:f}'.format)\n",
    "from datetime import datetime, timedelta\n",
    "%matplotlib inline\n",
    "import seaborn as sns"
   ]
  },
  {
   "cell_type": "code",
   "execution_count": 4,
   "metadata": {
    "id": "YQPEnrNPgACA"
   },
   "outputs": [],
   "source": [
    "episode= pd.read_csv(\"/content/episode.csv\",na_values=\" \")"
   ]
  },
  {
   "cell_type": "code",
   "execution_count": 5,
   "metadata": {
    "colab": {
     "base_uri": "https://localhost:8080/",
     "height": 399
    },
    "id": "sUW4aL8cgAMk",
    "outputId": "4f3463d0-0a6d-461f-9959-6bdc37e95e7c"
   },
   "outputs": [
    {
     "data": {
      "text/html": [
       "<div>\n",
       "<style scoped>\n",
       "    .dataframe tbody tr th:only-of-type {\n",
       "        vertical-align: middle;\n",
       "    }\n",
       "\n",
       "    .dataframe tbody tr th {\n",
       "        vertical-align: top;\n",
       "    }\n",
       "\n",
       "    .dataframe thead th {\n",
       "        text-align: right;\n",
       "    }\n",
       "</style>\n",
       "<table border=\"1\" class=\"dataframe\">\n",
       "  <thead>\n",
       "    <tr style=\"text-align: right;\">\n",
       "      <th></th>\n",
       "      <th>serial</th>\n",
       "      <th>strata</th>\n",
       "      <th>psu</th>\n",
       "      <th>pnum</th>\n",
       "      <th>daynum</th>\n",
       "      <th>HhOut</th>\n",
       "      <th>IndOut</th>\n",
       "      <th>DMFlag</th>\n",
       "      <th>IMonth</th>\n",
       "      <th>IYear</th>\n",
       "      <th>DVAge</th>\n",
       "      <th>DayNum_DiaryDay</th>\n",
       "      <th>DPday</th>\n",
       "      <th>DiaryDate_Act</th>\n",
       "      <th>DiaryDay_Act</th>\n",
       "      <th>DiaryDateDiff</th>\n",
       "      <th>dmonth</th>\n",
       "      <th>dyear</th>\n",
       "      <th>ddayw</th>\n",
       "      <th>DiaryType</th>\n",
       "      <th>WhenDiary</th>\n",
       "      <th>AfterDiaryDay</th>\n",
       "      <th>WhereStart</th>\n",
       "      <th>WhereEnd</th>\n",
       "      <th>RushedD</th>\n",
       "      <th>Ordinary</th>\n",
       "      <th>KindOfDay</th>\n",
       "      <th>Trip</th>\n",
       "      <th>dia_wt_a</th>\n",
       "      <th>dia_wt_b</th>\n",
       "      <th>epnum</th>\n",
       "      <th>tid</th>\n",
       "      <th>eptime</th>\n",
       "      <th>whatdoing</th>\n",
       "      <th>What_Oth1</th>\n",
       "      <th>What_Oth2</th>\n",
       "      <th>What_Oth3</th>\n",
       "      <th>WhereWhen</th>\n",
       "      <th>Device</th>\n",
       "      <th>WithAlone</th>\n",
       "      <th>WithSpouse</th>\n",
       "      <th>WithMother</th>\n",
       "      <th>WithFather</th>\n",
       "      <th>WithChild</th>\n",
       "      <th>WithOther</th>\n",
       "      <th>WithOtherYK</th>\n",
       "      <th>WithMiss</th>\n",
       "      <th>WithNA</th>\n",
       "      <th>Enjoy</th>\n",
       "      <th>impuflag</th>\n",
       "    </tr>\n",
       "  </thead>\n",
       "  <tbody>\n",
       "    <tr>\n",
       "      <th>0</th>\n",
       "      <td>11011202</td>\n",
       "      <td>110</td>\n",
       "      <td>117</td>\n",
       "      <td>1</td>\n",
       "      <td>1</td>\n",
       "      <td>210</td>\n",
       "      <td>11</td>\n",
       "      <td>2</td>\n",
       "      <td>12</td>\n",
       "      <td>2014</td>\n",
       "      <td>48</td>\n",
       "      <td>1</td>\n",
       "      <td>12-11-2014</td>\n",
       "      <td>12-11-2014</td>\n",
       "      <td>5</td>\n",
       "      <td>0</td>\n",
       "      <td>12</td>\n",
       "      <td>2014</td>\n",
       "      <td>1</td>\n",
       "      <td>1</td>\n",
       "      <td>1</td>\n",
       "      <td>-1</td>\n",
       "      <td>1</td>\n",
       "      <td>1</td>\n",
       "      <td>2</td>\n",
       "      <td>2</td>\n",
       "      <td>3</td>\n",
       "      <td>1</td>\n",
       "      <td>2.021182</td>\n",
       "      <td>1.581180</td>\n",
       "      <td>1</td>\n",
       "      <td>1</td>\n",
       "      <td>110</td>\n",
       "      <td>110</td>\n",
       "      <td>-9</td>\n",
       "      <td>-9</td>\n",
       "      <td>-9.000000</td>\n",
       "      <td>11.000000</td>\n",
       "      <td>0.000000</td>\n",
       "      <td>0.000000</td>\n",
       "      <td>1.000000</td>\n",
       "      <td>0.000000</td>\n",
       "      <td>0.000000</td>\n",
       "      <td>0.000000</td>\n",
       "      <td>1.000000</td>\n",
       "      <td>0.000000</td>\n",
       "      <td>0.000000</td>\n",
       "      <td>1.000000</td>\n",
       "      <td>7.000000</td>\n",
       "      <td>1.000000</td>\n",
       "    </tr>\n",
       "    <tr>\n",
       "      <th>1</th>\n",
       "      <td>11011202</td>\n",
       "      <td>110</td>\n",
       "      <td>117</td>\n",
       "      <td>1</td>\n",
       "      <td>1</td>\n",
       "      <td>210</td>\n",
       "      <td>11</td>\n",
       "      <td>2</td>\n",
       "      <td>12</td>\n",
       "      <td>2014</td>\n",
       "      <td>48</td>\n",
       "      <td>1</td>\n",
       "      <td>12-11-2014</td>\n",
       "      <td>12-11-2014</td>\n",
       "      <td>5</td>\n",
       "      <td>0</td>\n",
       "      <td>12</td>\n",
       "      <td>2014</td>\n",
       "      <td>1</td>\n",
       "      <td>1</td>\n",
       "      <td>1</td>\n",
       "      <td>-1</td>\n",
       "      <td>1</td>\n",
       "      <td>1</td>\n",
       "      <td>2</td>\n",
       "      <td>2</td>\n",
       "      <td>3</td>\n",
       "      <td>1</td>\n",
       "      <td>2.021182</td>\n",
       "      <td>1.581180</td>\n",
       "      <td>2</td>\n",
       "      <td>12</td>\n",
       "      <td>10</td>\n",
       "      <td>8219</td>\n",
       "      <td>111</td>\n",
       "      <td>-9</td>\n",
       "      <td>-9.000000</td>\n",
       "      <td>11.000000</td>\n",
       "      <td>0.000000</td>\n",
       "      <td>0.000000</td>\n",
       "      <td>1.000000</td>\n",
       "      <td>0.000000</td>\n",
       "      <td>0.000000</td>\n",
       "      <td>0.000000</td>\n",
       "      <td>1.000000</td>\n",
       "      <td>0.000000</td>\n",
       "      <td>0.000000</td>\n",
       "      <td>0.000000</td>\n",
       "      <td>7.000000</td>\n",
       "      <td>1.000000</td>\n",
       "    </tr>\n",
       "    <tr>\n",
       "      <th>2</th>\n",
       "      <td>11011202</td>\n",
       "      <td>110</td>\n",
       "      <td>117</td>\n",
       "      <td>1</td>\n",
       "      <td>1</td>\n",
       "      <td>210</td>\n",
       "      <td>11</td>\n",
       "      <td>2</td>\n",
       "      <td>12</td>\n",
       "      <td>2014</td>\n",
       "      <td>48</td>\n",
       "      <td>1</td>\n",
       "      <td>12-11-2014</td>\n",
       "      <td>12-11-2014</td>\n",
       "      <td>5</td>\n",
       "      <td>0</td>\n",
       "      <td>12</td>\n",
       "      <td>2014</td>\n",
       "      <td>1</td>\n",
       "      <td>1</td>\n",
       "      <td>1</td>\n",
       "      <td>-1</td>\n",
       "      <td>1</td>\n",
       "      <td>1</td>\n",
       "      <td>2</td>\n",
       "      <td>2</td>\n",
       "      <td>3</td>\n",
       "      <td>1</td>\n",
       "      <td>2.021182</td>\n",
       "      <td>1.581180</td>\n",
       "      <td>3</td>\n",
       "      <td>13</td>\n",
       "      <td>10</td>\n",
       "      <td>310</td>\n",
       "      <td>-9</td>\n",
       "      <td>-9</td>\n",
       "      <td>-9.000000</td>\n",
       "      <td>11.000000</td>\n",
       "      <td>0.000000</td>\n",
       "      <td>0.000000</td>\n",
       "      <td>0.000000</td>\n",
       "      <td>0.000000</td>\n",
       "      <td>0.000000</td>\n",
       "      <td>0.000000</td>\n",
       "      <td>0.000000</td>\n",
       "      <td>0.000000</td>\n",
       "      <td>1.000000</td>\n",
       "      <td>0.000000</td>\n",
       "      <td>3.000000</td>\n",
       "      <td>1.000000</td>\n",
       "    </tr>\n",
       "    <tr>\n",
       "      <th>3</th>\n",
       "      <td>11011202</td>\n",
       "      <td>110</td>\n",
       "      <td>117</td>\n",
       "      <td>1</td>\n",
       "      <td>1</td>\n",
       "      <td>210</td>\n",
       "      <td>11</td>\n",
       "      <td>2</td>\n",
       "      <td>12</td>\n",
       "      <td>2014</td>\n",
       "      <td>48</td>\n",
       "      <td>1</td>\n",
       "      <td>12-11-2014</td>\n",
       "      <td>12-11-2014</td>\n",
       "      <td>5</td>\n",
       "      <td>0</td>\n",
       "      <td>12</td>\n",
       "      <td>2014</td>\n",
       "      <td>1</td>\n",
       "      <td>1</td>\n",
       "      <td>1</td>\n",
       "      <td>-1</td>\n",
       "      <td>1</td>\n",
       "      <td>1</td>\n",
       "      <td>2</td>\n",
       "      <td>2</td>\n",
       "      <td>3</td>\n",
       "      <td>1</td>\n",
       "      <td>2.021182</td>\n",
       "      <td>1.581180</td>\n",
       "      <td>4</td>\n",
       "      <td>14</td>\n",
       "      <td>10</td>\n",
       "      <td>3210</td>\n",
       "      <td>-9</td>\n",
       "      <td>-9</td>\n",
       "      <td>-9.000000</td>\n",
       "      <td>11.000000</td>\n",
       "      <td>0.000000</td>\n",
       "      <td>0.000000</td>\n",
       "      <td>0.000000</td>\n",
       "      <td>0.000000</td>\n",
       "      <td>0.000000</td>\n",
       "      <td>0.000000</td>\n",
       "      <td>0.000000</td>\n",
       "      <td>0.000000</td>\n",
       "      <td>1.000000</td>\n",
       "      <td>0.000000</td>\n",
       "      <td>3.000000</td>\n",
       "      <td>1.000000</td>\n",
       "    </tr>\n",
       "    <tr>\n",
       "      <th>4</th>\n",
       "      <td>11011202</td>\n",
       "      <td>110</td>\n",
       "      <td>117</td>\n",
       "      <td>1</td>\n",
       "      <td>1</td>\n",
       "      <td>210</td>\n",
       "      <td>11</td>\n",
       "      <td>2</td>\n",
       "      <td>12</td>\n",
       "      <td>2014</td>\n",
       "      <td>48</td>\n",
       "      <td>1</td>\n",
       "      <td>12-11-2014</td>\n",
       "      <td>12-11-2014</td>\n",
       "      <td>5</td>\n",
       "      <td>0</td>\n",
       "      <td>12</td>\n",
       "      <td>2014</td>\n",
       "      <td>1</td>\n",
       "      <td>1</td>\n",
       "      <td>1</td>\n",
       "      <td>-1</td>\n",
       "      <td>1</td>\n",
       "      <td>1</td>\n",
       "      <td>2</td>\n",
       "      <td>2</td>\n",
       "      <td>3</td>\n",
       "      <td>1</td>\n",
       "      <td>2.021182</td>\n",
       "      <td>1.581180</td>\n",
       "      <td>5</td>\n",
       "      <td>15</td>\n",
       "      <td>10</td>\n",
       "      <td>3110</td>\n",
       "      <td>-9</td>\n",
       "      <td>-9</td>\n",
       "      <td>-9.000000</td>\n",
       "      <td>11.000000</td>\n",
       "      <td>1.000000</td>\n",
       "      <td>0.000000</td>\n",
       "      <td>0.000000</td>\n",
       "      <td>0.000000</td>\n",
       "      <td>0.000000</td>\n",
       "      <td>0.000000</td>\n",
       "      <td>0.000000</td>\n",
       "      <td>0.000000</td>\n",
       "      <td>1.000000</td>\n",
       "      <td>0.000000</td>\n",
       "      <td>5.000000</td>\n",
       "      <td>1.000000</td>\n",
       "    </tr>\n",
       "  </tbody>\n",
       "</table>\n",
       "</div>"
      ],
      "text/plain": [
       "     serial  strata  psu  pnum  daynum  HhOut  IndOut  DMFlag  IMonth  IYear  \\\n",
       "0  11011202     110  117     1       1    210      11       2      12   2014   \n",
       "1  11011202     110  117     1       1    210      11       2      12   2014   \n",
       "2  11011202     110  117     1       1    210      11       2      12   2014   \n",
       "3  11011202     110  117     1       1    210      11       2      12   2014   \n",
       "4  11011202     110  117     1       1    210      11       2      12   2014   \n",
       "\n",
       "   DVAge  DayNum_DiaryDay       DPday DiaryDate_Act  DiaryDay_Act  \\\n",
       "0     48                1  12-11-2014    12-11-2014             5   \n",
       "1     48                1  12-11-2014    12-11-2014             5   \n",
       "2     48                1  12-11-2014    12-11-2014             5   \n",
       "3     48                1  12-11-2014    12-11-2014             5   \n",
       "4     48                1  12-11-2014    12-11-2014             5   \n",
       "\n",
       "   DiaryDateDiff  dmonth  dyear  ddayw  DiaryType  WhenDiary  AfterDiaryDay  \\\n",
       "0              0      12   2014      1          1          1             -1   \n",
       "1              0      12   2014      1          1          1             -1   \n",
       "2              0      12   2014      1          1          1             -1   \n",
       "3              0      12   2014      1          1          1             -1   \n",
       "4              0      12   2014      1          1          1             -1   \n",
       "\n",
       "   WhereStart  WhereEnd  RushedD  Ordinary  KindOfDay  Trip  dia_wt_a  \\\n",
       "0           1         1        2         2          3     1  2.021182   \n",
       "1           1         1        2         2          3     1  2.021182   \n",
       "2           1         1        2         2          3     1  2.021182   \n",
       "3           1         1        2         2          3     1  2.021182   \n",
       "4           1         1        2         2          3     1  2.021182   \n",
       "\n",
       "   dia_wt_b  epnum  tid  eptime  whatdoing  What_Oth1  What_Oth2  What_Oth3  \\\n",
       "0  1.581180      1    1     110        110         -9         -9  -9.000000   \n",
       "1  1.581180      2   12      10       8219        111         -9  -9.000000   \n",
       "2  1.581180      3   13      10        310         -9         -9  -9.000000   \n",
       "3  1.581180      4   14      10       3210         -9         -9  -9.000000   \n",
       "4  1.581180      5   15      10       3110         -9         -9  -9.000000   \n",
       "\n",
       "   WhereWhen   Device  WithAlone  WithSpouse  WithMother  WithFather  \\\n",
       "0  11.000000 0.000000   0.000000    1.000000    0.000000    0.000000   \n",
       "1  11.000000 0.000000   0.000000    1.000000    0.000000    0.000000   \n",
       "2  11.000000 0.000000   0.000000    0.000000    0.000000    0.000000   \n",
       "3  11.000000 0.000000   0.000000    0.000000    0.000000    0.000000   \n",
       "4  11.000000 1.000000   0.000000    0.000000    0.000000    0.000000   \n",
       "\n",
       "   WithChild  WithOther  WithOtherYK  WithMiss   WithNA    Enjoy  impuflag  \n",
       "0   0.000000   1.000000     0.000000  0.000000 1.000000 7.000000  1.000000  \n",
       "1   0.000000   1.000000     0.000000  0.000000 0.000000 7.000000  1.000000  \n",
       "2   0.000000   0.000000     0.000000  1.000000 0.000000 3.000000  1.000000  \n",
       "3   0.000000   0.000000     0.000000  1.000000 0.000000 3.000000  1.000000  \n",
       "4   0.000000   0.000000     0.000000  1.000000 0.000000 5.000000  1.000000  "
      ]
     },
     "execution_count": 5,
     "metadata": {},
     "output_type": "execute_result"
    }
   ],
   "source": [
    "episode.head()"
   ]
  },
  {
   "cell_type": "code",
   "execution_count": 6,
   "metadata": {
    "colab": {
     "base_uri": "https://localhost:8080/"
    },
    "id": "EK0w__7lgAve",
    "outputId": "3bd63180-c82e-40a3-e800-f0a59f9c5b0d"
   },
   "outputs": [
    {
     "data": {
      "text/plain": [
       " 1    5354\n",
       " 2     450\n",
       "-9     319\n",
       "Name: WhereStart, dtype: int64"
      ]
     },
     "execution_count": 6,
     "metadata": {},
     "output_type": "execute_result"
    }
   ],
   "source": [
    "episode[\"WhereStart\"].value_counts()"
   ]
  },
  {
   "cell_type": "code",
   "execution_count": 7,
   "metadata": {
    "id": "wX287o-lhD7R"
   },
   "outputs": [],
   "source": [
    "index_names = episode[ episode['WhereStart'] == -9 ].index\n",
    "episode.drop(index_names, inplace = True)"
   ]
  },
  {
   "cell_type": "code",
   "execution_count": 8,
   "metadata": {
    "colab": {
     "base_uri": "https://localhost:8080/"
    },
    "id": "0_O2QoGZhNzh",
    "outputId": "e29cb4a4-63bf-479c-da36-2f436b369e5d"
   },
   "outputs": [
    {
     "data": {
      "text/plain": [
       "1    5354\n",
       "2     450\n",
       "Name: WhereStart, dtype: int64"
      ]
     },
     "execution_count": 8,
     "metadata": {},
     "output_type": "execute_result"
    }
   ],
   "source": [
    "episode[\"WhereStart\"].value_counts()"
   ]
  },
  {
   "cell_type": "code",
   "execution_count": 9,
   "metadata": {
    "colab": {
     "base_uri": "https://localhost:8080/",
     "height": 482
    },
    "id": "hap6U-kYhQDe",
    "outputId": "efb7d116-70b1-4bac-a25f-a3465719438e"
   },
   "outputs": [
    {
     "data": {
      "image/png": "[encoded data removed]",
      "text/plain": [
       "<Figure size 576x576 with 1 Axes>"
      ]
     },
     "metadata": {},
     "output_type": "display_data"
    }
   ],
   "source": [
    "fig, ax = plt.subplots(figsize=(8,8))\n",
    "workstatus = [78644,5496]\n",
    "colors_list = ['gold','yellowgreen']\n",
    "my_labels = 'Home','Some other place'\n",
    "plt.pie(workstatus,autopct='%1.1f%%',shadow=True,colors=colors_list)\n",
    "plt.title('Start Location', y=1.) \n",
    "plt.legend(labels=my_labels, loc='upper left') \n",
    "plt.axis('equal')\n",
    "plt.show()"
   ]
  },
  {
   "cell_type": "code",
   "execution_count": 10,
   "metadata": {
    "colab": {
     "base_uri": "https://localhost:8080/"
    },
    "id": "qWRWxWeQhmWr",
    "outputId": "13a27755-90a0-4ac9-c491-a4b24855cfd1"
   },
   "outputs": [
    {
     "data": {
      "text/plain": [
       "1    5402\n",
       "2     402\n",
       "Name: WhereEnd, dtype: int64"
      ]
     },
     "execution_count": 10,
     "metadata": {},
     "output_type": "execute_result"
    }
   ],
   "source": [
    "episode[\"WhereEnd\"].value_counts()"
   ]
  },
  {
   "cell_type": "code",
   "execution_count": 11,
   "metadata": {
    "id": "xUV8ojbEhmZh"
   },
   "outputs": [],
   "source": [
    "index_names = episode[ episode['WhereEnd'] == -9 ].index\n",
    "episode.drop(index_names, inplace = True)"
   ]
  },
  {
   "cell_type": "code",
   "execution_count": 12,
   "metadata": {
    "colab": {
     "base_uri": "https://localhost:8080/"
    },
    "id": "K1GXXDl7hmcR",
    "outputId": "d82254e6-5c4b-48fa-aa87-39a59bf4a3e1"
   },
   "outputs": [
    {
     "data": {
      "text/plain": [
       "1    5402\n",
       "2     402\n",
       "Name: WhereEnd, dtype: int64"
      ]
     },
     "execution_count": 12,
     "metadata": {},
     "output_type": "execute_result"
    }
   ],
   "source": [
    "episode[\"WhereEnd\"].value_counts()"
   ]
  },
  {
   "cell_type": "code",
   "execution_count": 13,
   "metadata": {
    "colab": {
     "base_uri": "https://localhost:8080/",
     "height": 482
    },
    "id": "kQjNNQ0NhmfK",
    "outputId": "02265b0d-27f8-4d2e-e104-2bfb70774446"
   },
   "outputs": [
    {
     "data": {
      "image/png": "[encoded data removed]",
      "text/plain": [
       "<Figure size 576x576 with 1 Axes>"
      ]
     },
     "metadata": {},
     "output_type": "display_data"
    }
   ],
   "source": [
    "fig, ax = plt.subplots(figsize=(8,8))\n",
    "workstatus = [77589,5816]\n",
    "colors_list = ['gold','yellowgreen']\n",
    "my_labels = 'Home','Some other place'\n",
    "plt.pie(workstatus,autopct='%1.1f%%',shadow=True,colors=colors_list)\n",
    "plt.title('End Location', y=1.) \n",
    "plt.legend(labels=my_labels, loc='upper left') \n",
    "plt.axis('equal')\n",
    "plt.show()"
   ]
  },
  {
   "cell_type": "code",
   "execution_count": 14,
   "metadata": {
    "colab": {
     "base_uri": "https://localhost:8080/"
    },
    "id": "T4COFge-iEU-",
    "outputId": "4a863013-0646-47de-c384-e3d1f7558e5a"
   },
   "outputs": [
    {
     "data": {
      "text/plain": [
       "1    4315\n",
       "2    1489\n",
       "Name: Ordinary, dtype: int64"
      ]
     },
     "execution_count": 14,
     "metadata": {},
     "output_type": "execute_result"
    }
   ],
   "source": [
    "episode[\"Ordinary\"].value_counts()"
   ]
  },
  {
   "cell_type": "code",
   "execution_count": 15,
   "metadata": {
    "colab": {
     "base_uri": "https://localhost:8080/",
     "height": 482
    },
    "id": "5fAQ2R1ciEgZ",
    "outputId": "e6ca2980-7d4b-4a4b-cb36-cf08d9c78b13"
   },
   "outputs": [
    {
     "data": {
      "image/png": "[encoded data removed]",
      "text/plain": [
       "<Figure size 576x576 with 1 Axes>"
      ]
     },
     "metadata": {},
     "output_type": "display_data"
    }
   ],
   "source": [
    "fig, ax = plt.subplots(figsize=(8,8))\n",
    "workstatus = [59410,23240]\n",
    "colors_list = ['gold','yellowgreen']\n",
    "my_labels = 'Ordinary day','No Answer'\n",
    "plt.pie(workstatus,autopct='%1.1f%%',shadow=True,colors=colors_list)\n",
    "plt.title('Kind of Day', y=1.) \n",
    "plt.legend(labels=my_labels, loc='upper left') \n",
    "plt.axis('equal')\n",
    "plt.show()"
   ]
  },
  {
   "cell_type": "code",
   "execution_count": 16,
   "metadata": {
    "colab": {
     "base_uri": "https://localhost:8080/"
    },
    "id": "RakumrEFiEiR",
    "outputId": "9955a4a0-8a6e-4145-fc5b-fab6c6460e2d"
   },
   "outputs": [
    {
     "data": {
      "text/plain": [
       "210     658\n",
       "110     559\n",
       "310     550\n",
       "8210    477\n",
       "3110    376\n",
       "1110    235\n",
       "111     135\n",
       "9360    118\n",
       "3130    110\n",
       "9120    100\n",
       "3819     92\n",
       "3210     90\n",
       "3240     86\n",
       "9500     75\n",
       "5140     70\n",
       "7330     70\n",
       "5120     69\n",
       "5310     64\n",
       "3310     60\n",
       "7241     57\n",
       "3610     55\n",
       "8212     54\n",
       "5190     49\n",
       "3290     47\n",
       "3410     45\n",
       "9210     45\n",
       "2120     42\n",
       "2110     42\n",
       "8110     41\n",
       "5110     41\n",
       "9960     40\n",
       "8219     39\n",
       "3611     37\n",
       "3440     32\n",
       "4320     31\n",
       "3000     31\n",
       "3430     31\n",
       "7231     30\n",
       "8120     30\n",
       "3710     28\n",
       "3830     26\n",
       "9950     23\n",
       "1120     23\n",
       "3320     23\n",
       "9990     22\n",
       "7250     22\n",
       "9000     22\n",
       "9610     22\n",
       "8100     22\n",
       "7320     21\n",
       "9380     21\n",
       "9410     20\n",
       "9370     19\n",
       "9510     19\n",
       "9230     18\n",
       "3510     18\n",
       "6110     17\n",
       "3540     17\n",
       "4210     16\n",
       "3630     15\n",
       "9940     15\n",
       "1310     15\n",
       "9520     14\n",
       "4110     14\n",
       "9390     13\n",
       "6179     13\n",
       "300      11\n",
       "3330     11\n",
       "9430     11\n",
       "9970     11\n",
       "3520     11\n",
       "9310     11\n",
       "1399     10\n",
       "9620     10\n",
       "8221     10\n",
       "7170     10\n",
       "4230     10\n",
       "9130      9\n",
       "5290      9\n",
       "5295      9\n",
       "7220      9\n",
       "9600      9\n",
       "3820      8\n",
       "7259      8\n",
       "6144      8\n",
       "3811      8\n",
       "3619      8\n",
       "6160      8\n",
       "5250      7\n",
       "390       7\n",
       "3721      7\n",
       "6120      7\n",
       "7329      6\n",
       "4000      6\n",
       "7300      6\n",
       "3539      6\n",
       "3420      6\n",
       "8000      6\n",
       "8310      6\n",
       "4310      6\n",
       "4220      5\n",
       "6131      5\n",
       "6143      5\n",
       "9890      5\n",
       "6311      5\n",
       "5292      5\n",
       "3250      5\n",
       "2210      5\n",
       "3590      5\n",
       "3620      5\n",
       "6210      4\n",
       "3890      4\n",
       "7390      4\n",
       "8300      4\n",
       "7310      4\n",
       "7112      4\n",
       "5299      4\n",
       "6190      4\n",
       "8229      4\n",
       "9440      4\n",
       "6150      4\n",
       "3729      4\n",
       "7121      4\n",
       "4200      3\n",
       "3929      3\n",
       "3727      3\n",
       "1390      3\n",
       "4271      3\n",
       "9010      3\n",
       "6141      3\n",
       "3615      3\n",
       "7100      3\n",
       "3230      3\n",
       "9100      3\n",
       "7251      3\n",
       "1000      3\n",
       "4281      3\n",
       "8211      3\n",
       "9110      2\n",
       "9630      2\n",
       "6132      2\n",
       "3911      2\n",
       "2190      2\n",
       "8319      2\n",
       "3600      2\n",
       "3220      2\n",
       "4274      2\n",
       "8312      2\n",
       "4120      2\n",
       "6111      2\n",
       "5291      1\n",
       "5240      1\n",
       "7322      1\n",
       "7111      1\n",
       "1100      1\n",
       "4250      1\n",
       "4300      1\n",
       "3390      1\n",
       "3200      1\n",
       "4283      1\n",
       "9820      1\n",
       "8220      1\n",
       "6171      1\n",
       "3720      1\n",
       "7249      1\n",
       "9720      1\n",
       "4273      1\n",
       "Name: whatdoing, dtype: int64"
      ]
     },
     "execution_count": 16,
     "metadata": {},
     "output_type": "execute_result"
    }
   ],
   "source": [
    "episode[\"whatdoing\"].value_counts().sort_values(ascending=False)"
   ]
  },
  {
   "cell_type": "code",
   "execution_count": 17,
   "metadata": {
    "colab": {
     "base_uri": "https://localhost:8080/",
     "height": 482
    },
    "id": "UOM6g4F4hmiV",
    "outputId": "fd733147-7a13-4ff2-9e2c-34c5d0e03c47"
   },
   "outputs": [
    {
     "data": {
      "image/png": "[encoded data removed]",
      "text/plain": [
       "<Figure size 576x576 with 1 Axes>"
      ]
     },
     "metadata": {},
     "output_type": "display_data"
    }
   ],
   "source": [
    "fig, ax = plt.subplots(figsize=(8,8))\n",
    "workstatus = [59708,53730,51643,48474,30283,26072,15557,11310,11190,10586]\n",
    "colors_list = ['gold','yellowgreen','yellow', 'lightcoral','red','pink','blue','green','purple','orange']\n",
    "my_labels = 'Eating','Sleep','Wash and dress','Unspecified TV video or DVD watching','Food preparation and baking','Working time in main job','In bed not asleep','Cleaning dwelling','Dish washing','Resting - Time out'\n",
    "plt.pie(workstatus,autopct='%1.1f%%',shadow=True,colors=colors_list)\n",
    "plt.title('Major Activities', y=1.) \n",
    "plt.legend(labels=my_labels, loc='upper left') \n",
    "plt.axis('equal')\n",
    "plt.show()"
   ]
  }
 ],
 "metadata": {
  "colab": {
   "collapsed_sections": [],
   "name": "EDA.ipynb",
   "provenance": []
  },
  "kernelspec": {
   "display_name": "Python 3",
   "language": "python",
   "name": "python3"
  },
  "language_info": {
   "codemirror_mode": {
    "name": "ipython",
    "version": 3
   },
   "file_extension": ".py",
   "mimetype": "text/x-python",
   "name": "python",
   "nbconvert_exporter": "python",
   "pygments_lexer": "ipython3",
   "version": "3.8.8"
  }
 },
 "nbformat": 4,
 "nbformat_minor": 1
}
